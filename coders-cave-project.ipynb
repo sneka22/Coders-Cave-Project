{
 "cells": [
  {
   "cell_type": "code",
   "execution_count": 1,
   "metadata": {},
   "outputs": [],
   "source": [
    "import pandas as pd\n",
    "import matplotlib.pyplot as plt\n",
    "import seaborn as sns\n",
    "import numpy as np "
   ]
  },
  {
   "cell_type": "markdown",
   "metadata": {},
   "source": [
    "LOADING DATA"
   ]
  },
  {
   "cell_type": "code",
   "execution_count": 30,
   "metadata": {},
   "outputs": [],
   "source": [
    "df = pd.read_csv('Hackathon_Ideal_Data.csv')"
   ]
  },
  {
   "cell_type": "code",
   "execution_count": 31,
   "metadata": {},
   "outputs": [
    {
     "data": {
      "text/html": [
       "<div>\n",
       "<style scoped>\n",
       "    .dataframe tbody tr th:only-of-type {\n",
       "        vertical-align: middle;\n",
       "    }\n",
       "\n",
       "    .dataframe tbody tr th {\n",
       "        vertical-align: top;\n",
       "    }\n",
       "\n",
       "    .dataframe thead th {\n",
       "        text-align: right;\n",
       "    }\n",
       "</style>\n",
       "<table border=\"1\" class=\"dataframe\">\n",
       "  <thead>\n",
       "    <tr style=\"text-align: right;\">\n",
       "      <th></th>\n",
       "      <th>MONTH</th>\n",
       "      <th>STORECODE</th>\n",
       "      <th>QTY</th>\n",
       "      <th>VALUE</th>\n",
       "      <th>GRP</th>\n",
       "      <th>SGRP</th>\n",
       "      <th>SSGRP</th>\n",
       "      <th>CMP</th>\n",
       "      <th>MBRD</th>\n",
       "      <th>BRD</th>\n",
       "    </tr>\n",
       "  </thead>\n",
       "  <tbody>\n",
       "    <tr>\n",
       "      <th>0</th>\n",
       "      <td>M1</td>\n",
       "      <td>P1</td>\n",
       "      <td>25</td>\n",
       "      <td>83</td>\n",
       "      <td>HAIR CONDITIONERS</td>\n",
       "      <td>HAIR CONDITIONERS</td>\n",
       "      <td>HAIR CONDITIONERS</td>\n",
       "      <td>HINDUSTAN UNILEVER LIMITED</td>\n",
       "      <td>DOVE</td>\n",
       "      <td>DOVE HAIR FALL RESCUE</td>\n",
       "    </tr>\n",
       "    <tr>\n",
       "      <th>1</th>\n",
       "      <td>M1</td>\n",
       "      <td>P1</td>\n",
       "      <td>6</td>\n",
       "      <td>22</td>\n",
       "      <td>HAIR CONDITIONERS</td>\n",
       "      <td>HAIR CONDITIONERS</td>\n",
       "      <td>HAIR CONDITIONERS</td>\n",
       "      <td>HINDUSTAN UNILEVER LIMITED</td>\n",
       "      <td>DOVE</td>\n",
       "      <td>DOVE INTENSE REPAIR</td>\n",
       "    </tr>\n",
       "    <tr>\n",
       "      <th>2</th>\n",
       "      <td>M1</td>\n",
       "      <td>P1</td>\n",
       "      <td>4</td>\n",
       "      <td>15</td>\n",
       "      <td>HAIR CONDITIONERS</td>\n",
       "      <td>HAIR CONDITIONERS</td>\n",
       "      <td>HAIR CONDITIONERS</td>\n",
       "      <td>HINDUSTAN UNILEVER LIMITED</td>\n",
       "      <td>DOVE</td>\n",
       "      <td>DOVE OXYGEN MOISTURE</td>\n",
       "    </tr>\n",
       "    <tr>\n",
       "      <th>3</th>\n",
       "      <td>M1</td>\n",
       "      <td>P1</td>\n",
       "      <td>15</td>\n",
       "      <td>60</td>\n",
       "      <td>HAIR CONDITIONERS</td>\n",
       "      <td>HAIR CONDITIONERS</td>\n",
       "      <td>HAIR CONDITIONERS</td>\n",
       "      <td>L'OREAL INDIA</td>\n",
       "      <td>GARNIER</td>\n",
       "      <td>FRUCTIS</td>\n",
       "    </tr>\n",
       "    <tr>\n",
       "      <th>4</th>\n",
       "      <td>M1</td>\n",
       "      <td>P2</td>\n",
       "      <td>0</td>\n",
       "      <td>0</td>\n",
       "      <td>HAIR CONDITIONERS</td>\n",
       "      <td>HAIR CONDITIONERS</td>\n",
       "      <td>HAIR CONDITIONERS</td>\n",
       "      <td>HINDUSTAN UNILEVER LIMITED</td>\n",
       "      <td>CLINIC PLUS</td>\n",
       "      <td>CLINIC PLUS</td>\n",
       "    </tr>\n",
       "    <tr>\n",
       "      <th>...</th>\n",
       "      <td>...</td>\n",
       "      <td>...</td>\n",
       "      <td>...</td>\n",
       "      <td>...</td>\n",
       "      <td>...</td>\n",
       "      <td>...</td>\n",
       "      <td>...</td>\n",
       "      <td>...</td>\n",
       "      <td>...</td>\n",
       "      <td>...</td>\n",
       "    </tr>\n",
       "    <tr>\n",
       "      <th>14255</th>\n",
       "      <td>M3</td>\n",
       "      <td>P10</td>\n",
       "      <td>0</td>\n",
       "      <td>0</td>\n",
       "      <td>SUGAR SUBSTITUTE (11/05)</td>\n",
       "      <td>POWDER (SUGAR SUBST)</td>\n",
       "      <td>POWDER (SUGAR SUBST)</td>\n",
       "      <td>ZYDUS WELLNESS LTD</td>\n",
       "      <td>SUGAR FREE</td>\n",
       "      <td>SUGAR FREE GOLD</td>\n",
       "    </tr>\n",
       "    <tr>\n",
       "      <th>14256</th>\n",
       "      <td>M3</td>\n",
       "      <td>P8</td>\n",
       "      <td>1</td>\n",
       "      <td>62</td>\n",
       "      <td>SUGAR SUBSTITUTE (11/05)</td>\n",
       "      <td>PELLETS (SUGAR SUBST)</td>\n",
       "      <td>PELLETS (SUGAR SUBST)</td>\n",
       "      <td>ZYDUS WELLNESS LTD</td>\n",
       "      <td>SUGAR FREE</td>\n",
       "      <td>SUGAR FREE GOLD</td>\n",
       "    </tr>\n",
       "    <tr>\n",
       "      <th>14257</th>\n",
       "      <td>M1</td>\n",
       "      <td>P6</td>\n",
       "      <td>0</td>\n",
       "      <td>0</td>\n",
       "      <td>SUGAR SUBSTITUTE (11/05)</td>\n",
       "      <td>PELLETS (SUGAR SUBST)</td>\n",
       "      <td>PELLETS (SUGAR SUBST)</td>\n",
       "      <td>ZYDUS WELLNESS LTD</td>\n",
       "      <td>SUGAR FREE</td>\n",
       "      <td>SUGAR FREE GOLD</td>\n",
       "    </tr>\n",
       "    <tr>\n",
       "      <th>14258</th>\n",
       "      <td>M1</td>\n",
       "      <td>P10</td>\n",
       "      <td>0</td>\n",
       "      <td>0</td>\n",
       "      <td>SUGAR SUBSTITUTE (11/05)</td>\n",
       "      <td>POWDER (SUGAR SUBST)</td>\n",
       "      <td>POWDER (SUGAR SUBST)</td>\n",
       "      <td>ZYDUS WELLNESS LTD</td>\n",
       "      <td>SUGAR FREE</td>\n",
       "      <td>SUGAR FREE GOLD</td>\n",
       "    </tr>\n",
       "    <tr>\n",
       "      <th>14259</th>\n",
       "      <td>M1</td>\n",
       "      <td>P8</td>\n",
       "      <td>1</td>\n",
       "      <td>62</td>\n",
       "      <td>SUGAR SUBSTITUTE (11/05)</td>\n",
       "      <td>PELLETS (SUGAR SUBST)</td>\n",
       "      <td>PELLETS (SUGAR SUBST)</td>\n",
       "      <td>ZYDUS WELLNESS LTD</td>\n",
       "      <td>SUGAR FREE</td>\n",
       "      <td>SUGAR FREE GOLD</td>\n",
       "    </tr>\n",
       "  </tbody>\n",
       "</table>\n",
       "<p>14260 rows × 10 columns</p>\n",
       "</div>"
      ],
      "text/plain": [
       "      MONTH STORECODE  QTY  VALUE                       GRP  \\\n",
       "0        M1        P1   25     83         HAIR CONDITIONERS   \n",
       "1        M1        P1    6     22         HAIR CONDITIONERS   \n",
       "2        M1        P1    4     15         HAIR CONDITIONERS   \n",
       "3        M1        P1   15     60         HAIR CONDITIONERS   \n",
       "4        M1        P2    0      0         HAIR CONDITIONERS   \n",
       "...     ...       ...  ...    ...                       ...   \n",
       "14255    M3       P10    0      0  SUGAR SUBSTITUTE (11/05)   \n",
       "14256    M3        P8    1     62  SUGAR SUBSTITUTE (11/05)   \n",
       "14257    M1        P6    0      0  SUGAR SUBSTITUTE (11/05)   \n",
       "14258    M1       P10    0      0  SUGAR SUBSTITUTE (11/05)   \n",
       "14259    M1        P8    1     62  SUGAR SUBSTITUTE (11/05)   \n",
       "\n",
       "                        SGRP                  SSGRP  \\\n",
       "0          HAIR CONDITIONERS      HAIR CONDITIONERS   \n",
       "1          HAIR CONDITIONERS      HAIR CONDITIONERS   \n",
       "2          HAIR CONDITIONERS      HAIR CONDITIONERS   \n",
       "3          HAIR CONDITIONERS      HAIR CONDITIONERS   \n",
       "4          HAIR CONDITIONERS      HAIR CONDITIONERS   \n",
       "...                      ...                    ...   \n",
       "14255   POWDER (SUGAR SUBST)   POWDER (SUGAR SUBST)   \n",
       "14256  PELLETS (SUGAR SUBST)  PELLETS (SUGAR SUBST)   \n",
       "14257  PELLETS (SUGAR SUBST)  PELLETS (SUGAR SUBST)   \n",
       "14258   POWDER (SUGAR SUBST)   POWDER (SUGAR SUBST)   \n",
       "14259  PELLETS (SUGAR SUBST)  PELLETS (SUGAR SUBST)   \n",
       "\n",
       "                              CMP         MBRD                    BRD  \n",
       "0      HINDUSTAN UNILEVER LIMITED         DOVE  DOVE HAIR FALL RESCUE  \n",
       "1      HINDUSTAN UNILEVER LIMITED         DOVE    DOVE INTENSE REPAIR  \n",
       "2      HINDUSTAN UNILEVER LIMITED         DOVE   DOVE OXYGEN MOISTURE  \n",
       "3                   L'OREAL INDIA      GARNIER                FRUCTIS  \n",
       "4      HINDUSTAN UNILEVER LIMITED  CLINIC PLUS            CLINIC PLUS  \n",
       "...                           ...          ...                    ...  \n",
       "14255          ZYDUS WELLNESS LTD   SUGAR FREE        SUGAR FREE GOLD  \n",
       "14256          ZYDUS WELLNESS LTD   SUGAR FREE        SUGAR FREE GOLD  \n",
       "14257          ZYDUS WELLNESS LTD   SUGAR FREE        SUGAR FREE GOLD  \n",
       "14258          ZYDUS WELLNESS LTD   SUGAR FREE        SUGAR FREE GOLD  \n",
       "14259          ZYDUS WELLNESS LTD   SUGAR FREE        SUGAR FREE GOLD  \n",
       "\n",
       "[14260 rows x 10 columns]"
      ]
     },
     "execution_count": 31,
     "metadata": {},
     "output_type": "execute_result"
    }
   ],
   "source": [
    "df"
   ]
  },
  {
   "cell_type": "code",
   "execution_count": 32,
   "metadata": {},
   "outputs": [
    {
     "name": "stdout",
     "output_type": "stream",
     "text": [
      "<class 'pandas.core.frame.DataFrame'>\n",
      "RangeIndex: 14260 entries, 0 to 14259\n",
      "Data columns (total 10 columns):\n",
      " #   Column     Non-Null Count  Dtype \n",
      "---  ------     --------------  ----- \n",
      " 0   MONTH      14260 non-null  object\n",
      " 1   STORECODE  14260 non-null  object\n",
      " 2   QTY        14260 non-null  int64 \n",
      " 3   VALUE      14260 non-null  int64 \n",
      " 4   GRP        14260 non-null  object\n",
      " 5   SGRP       14260 non-null  object\n",
      " 6   SSGRP      14260 non-null  object\n",
      " 7   CMP        14260 non-null  object\n",
      " 8   MBRD       14260 non-null  object\n",
      " 9   BRD        14260 non-null  object\n",
      "dtypes: int64(2), object(8)\n",
      "memory usage: 1.1+ MB\n"
     ]
    }
   ],
   "source": [
    "df.info()"
   ]
  },
  {
   "cell_type": "code",
   "execution_count": 33,
   "metadata": {},
   "outputs": [
    {
     "data": {
      "text/html": [
       "<div>\n",
       "<style scoped>\n",
       "    .dataframe tbody tr th:only-of-type {\n",
       "        vertical-align: middle;\n",
       "    }\n",
       "\n",
       "    .dataframe tbody tr th {\n",
       "        vertical-align: top;\n",
       "    }\n",
       "\n",
       "    .dataframe thead th {\n",
       "        text-align: right;\n",
       "    }\n",
       "</style>\n",
       "<table border=\"1\" class=\"dataframe\">\n",
       "  <thead>\n",
       "    <tr style=\"text-align: right;\">\n",
       "      <th></th>\n",
       "      <th>QTY</th>\n",
       "      <th>VALUE</th>\n",
       "    </tr>\n",
       "  </thead>\n",
       "  <tbody>\n",
       "    <tr>\n",
       "      <th>count</th>\n",
       "      <td>14260.000000</td>\n",
       "      <td>14260.000000</td>\n",
       "    </tr>\n",
       "    <tr>\n",
       "      <th>mean</th>\n",
       "      <td>16.354488</td>\n",
       "      <td>294.455330</td>\n",
       "    </tr>\n",
       "    <tr>\n",
       "      <th>std</th>\n",
       "      <td>34.365583</td>\n",
       "      <td>760.129558</td>\n",
       "    </tr>\n",
       "    <tr>\n",
       "      <th>min</th>\n",
       "      <td>0.000000</td>\n",
       "      <td>0.000000</td>\n",
       "    </tr>\n",
       "    <tr>\n",
       "      <th>25%</th>\n",
       "      <td>1.000000</td>\n",
       "      <td>10.000000</td>\n",
       "    </tr>\n",
       "    <tr>\n",
       "      <th>50%</th>\n",
       "      <td>4.000000</td>\n",
       "      <td>99.000000</td>\n",
       "    </tr>\n",
       "    <tr>\n",
       "      <th>75%</th>\n",
       "      <td>16.000000</td>\n",
       "      <td>283.000000</td>\n",
       "    </tr>\n",
       "    <tr>\n",
       "      <th>max</th>\n",
       "      <td>641.000000</td>\n",
       "      <td>24185.000000</td>\n",
       "    </tr>\n",
       "  </tbody>\n",
       "</table>\n",
       "</div>"
      ],
      "text/plain": [
       "                QTY         VALUE\n",
       "count  14260.000000  14260.000000\n",
       "mean      16.354488    294.455330\n",
       "std       34.365583    760.129558\n",
       "min        0.000000      0.000000\n",
       "25%        1.000000     10.000000\n",
       "50%        4.000000     99.000000\n",
       "75%       16.000000    283.000000\n",
       "max      641.000000  24185.000000"
      ]
     },
     "execution_count": 33,
     "metadata": {},
     "output_type": "execute_result"
    }
   ],
   "source": [
    "df.describe()"
   ]
  },
  {
   "cell_type": "code",
   "execution_count": 34,
   "metadata": {},
   "outputs": [
    {
     "data": {
      "text/plain": [
       "MONTH        0\n",
       "STORECODE    0\n",
       "QTY          0\n",
       "VALUE        0\n",
       "GRP          0\n",
       "SGRP         0\n",
       "SSGRP        0\n",
       "CMP          0\n",
       "MBRD         0\n",
       "BRD          0\n",
       "dtype: int64"
      ]
     },
     "execution_count": 34,
     "metadata": {},
     "output_type": "execute_result"
    }
   ],
   "source": [
    "df.isnull().sum()"
   ]
  },
  {
   "cell_type": "code",
   "execution_count": 35,
   "metadata": {},
   "outputs": [
    {
     "data": {
      "text/plain": [
       "array(['M1', 'M3', 'M2'], dtype=object)"
      ]
     },
     "execution_count": 35,
     "metadata": {},
     "output_type": "execute_result"
    }
   ],
   "source": [
    "df['MONTH'].unique()"
   ]
  },
  {
   "cell_type": "code",
   "execution_count": 36,
   "metadata": {},
   "outputs": [
    {
     "data": {
      "text/plain": [
       "array(['P1', 'P2', 'P3', 'P4', 'P5', 'P6', 'P7', 'P8', 'P9', 'P10'],\n",
       "      dtype=object)"
      ]
     },
     "execution_count": 36,
     "metadata": {},
     "output_type": "execute_result"
    }
   ],
   "source": [
    "df['STORECODE'].unique()"
   ]
  },
  {
   "cell_type": "code",
   "execution_count": 37,
   "metadata": {},
   "outputs": [
    {
     "data": {
      "text/plain": [
       "(14260, 10)"
      ]
     },
     "execution_count": 37,
     "metadata": {},
     "output_type": "execute_result"
    }
   ],
   "source": [
    "df.shape"
   ]
  },
  {
   "cell_type": "code",
   "execution_count": 56,
   "metadata": {},
   "outputs": [
    {
     "data": {
      "text/plain": [
       "294.4553295932679"
      ]
     },
     "execution_count": 56,
     "metadata": {},
     "output_type": "execute_result"
    }
   ],
   "source": [
    "df['VALUE'].mean()"
   ]
  },
  {
   "cell_type": "code",
   "execution_count": 57,
   "metadata": {},
   "outputs": [
    {
     "data": {
      "text/plain": [
       "99.0"
      ]
     },
     "execution_count": 57,
     "metadata": {},
     "output_type": "execute_result"
    }
   ],
   "source": [
    "df['VALUE'].median()"
   ]
  },
  {
   "cell_type": "code",
   "execution_count": 58,
   "metadata": {},
   "outputs": [
    {
     "data": {
      "text/plain": [
       "0    0\n",
       "Name: VALUE, dtype: int64"
      ]
     },
     "execution_count": 58,
     "metadata": {},
     "output_type": "execute_result"
    }
   ],
   "source": [
    "df['VALUE'].mode()"
   ]
  },
  {
   "cell_type": "code",
   "execution_count": 42,
   "metadata": {},
   "outputs": [
    {
     "name": "stdout",
     "output_type": "stream",
     "text": [
      "(14260, 10)\n"
     ]
    },
    {
     "data": {
      "text/plain": [
       "P8     2642\n",
       "P6     2097\n",
       "P10    1508\n",
       "P2     1471\n",
       "P4     1454\n",
       "P3     1362\n",
       "P9     1188\n",
       "P1     1061\n",
       "P7      850\n",
       "P5      627\n",
       "Name: STORECODE, dtype: int64"
      ]
     },
     "execution_count": 42,
     "metadata": {},
     "output_type": "execute_result"
    }
   ],
   "source": [
    "print(df.shape)\n",
    "df['STORECODE'].value_counts()"
   ]
  },
  {
   "cell_type": "code",
   "execution_count": 43,
   "metadata": {},
   "outputs": [
    {
     "data": {
      "text/html": [
       "<div>\n",
       "<style scoped>\n",
       "    .dataframe tbody tr th:only-of-type {\n",
       "        vertical-align: middle;\n",
       "    }\n",
       "\n",
       "    .dataframe tbody tr th {\n",
       "        vertical-align: top;\n",
       "    }\n",
       "\n",
       "    .dataframe thead th {\n",
       "        text-align: right;\n",
       "    }\n",
       "</style>\n",
       "<table border=\"1\" class=\"dataframe\">\n",
       "  <thead>\n",
       "    <tr style=\"text-align: right;\">\n",
       "      <th></th>\n",
       "      <th>M1</th>\n",
       "      <th>M2</th>\n",
       "      <th>M3</th>\n",
       "    </tr>\n",
       "  </thead>\n",
       "  <tbody>\n",
       "    <tr>\n",
       "      <th>0</th>\n",
       "      <td>1</td>\n",
       "      <td>0</td>\n",
       "      <td>0</td>\n",
       "    </tr>\n",
       "    <tr>\n",
       "      <th>1</th>\n",
       "      <td>1</td>\n",
       "      <td>0</td>\n",
       "      <td>0</td>\n",
       "    </tr>\n",
       "    <tr>\n",
       "      <th>2</th>\n",
       "      <td>1</td>\n",
       "      <td>0</td>\n",
       "      <td>0</td>\n",
       "    </tr>\n",
       "    <tr>\n",
       "      <th>3</th>\n",
       "      <td>1</td>\n",
       "      <td>0</td>\n",
       "      <td>0</td>\n",
       "    </tr>\n",
       "    <tr>\n",
       "      <th>4</th>\n",
       "      <td>1</td>\n",
       "      <td>0</td>\n",
       "      <td>0</td>\n",
       "    </tr>\n",
       "  </tbody>\n",
       "</table>\n",
       "</div>"
      ],
      "text/plain": [
       "   M1  M2  M3\n",
       "0   1   0   0\n",
       "1   1   0   0\n",
       "2   1   0   0\n",
       "3   1   0   0\n",
       "4   1   0   0"
      ]
     },
     "execution_count": 43,
     "metadata": {},
     "output_type": "execute_result"
    }
   ],
   "source": [
    "month_dummies =pd.get_dummies(df['MONTH'])\n",
    "month_dummies.head()"
   ]
  },
  {
   "cell_type": "code",
   "execution_count": 44,
   "metadata": {},
   "outputs": [
    {
     "data": {
      "text/html": [
       "<div>\n",
       "<style scoped>\n",
       "    .dataframe tbody tr th:only-of-type {\n",
       "        vertical-align: middle;\n",
       "    }\n",
       "\n",
       "    .dataframe tbody tr th {\n",
       "        vertical-align: top;\n",
       "    }\n",
       "\n",
       "    .dataframe thead th {\n",
       "        text-align: right;\n",
       "    }\n",
       "</style>\n",
       "<table border=\"1\" class=\"dataframe\">\n",
       "  <thead>\n",
       "    <tr style=\"text-align: right;\">\n",
       "      <th></th>\n",
       "      <th>MONTH</th>\n",
       "      <th>STORECODE</th>\n",
       "      <th>QTY</th>\n",
       "      <th>VALUE</th>\n",
       "      <th>GRP</th>\n",
       "      <th>SGRP</th>\n",
       "      <th>SSGRP</th>\n",
       "      <th>CMP</th>\n",
       "      <th>MBRD</th>\n",
       "      <th>BRD</th>\n",
       "      <th>M1</th>\n",
       "      <th>M2</th>\n",
       "      <th>M3</th>\n",
       "    </tr>\n",
       "  </thead>\n",
       "  <tbody>\n",
       "    <tr>\n",
       "      <th>0</th>\n",
       "      <td>M1</td>\n",
       "      <td>P1</td>\n",
       "      <td>25</td>\n",
       "      <td>83</td>\n",
       "      <td>HAIR CONDITIONERS</td>\n",
       "      <td>HAIR CONDITIONERS</td>\n",
       "      <td>HAIR CONDITIONERS</td>\n",
       "      <td>HINDUSTAN UNILEVER LIMITED</td>\n",
       "      <td>DOVE</td>\n",
       "      <td>DOVE HAIR FALL RESCUE</td>\n",
       "      <td>1</td>\n",
       "      <td>0</td>\n",
       "      <td>0</td>\n",
       "    </tr>\n",
       "    <tr>\n",
       "      <th>1</th>\n",
       "      <td>M1</td>\n",
       "      <td>P1</td>\n",
       "      <td>6</td>\n",
       "      <td>22</td>\n",
       "      <td>HAIR CONDITIONERS</td>\n",
       "      <td>HAIR CONDITIONERS</td>\n",
       "      <td>HAIR CONDITIONERS</td>\n",
       "      <td>HINDUSTAN UNILEVER LIMITED</td>\n",
       "      <td>DOVE</td>\n",
       "      <td>DOVE INTENSE REPAIR</td>\n",
       "      <td>1</td>\n",
       "      <td>0</td>\n",
       "      <td>0</td>\n",
       "    </tr>\n",
       "    <tr>\n",
       "      <th>2</th>\n",
       "      <td>M1</td>\n",
       "      <td>P1</td>\n",
       "      <td>4</td>\n",
       "      <td>15</td>\n",
       "      <td>HAIR CONDITIONERS</td>\n",
       "      <td>HAIR CONDITIONERS</td>\n",
       "      <td>HAIR CONDITIONERS</td>\n",
       "      <td>HINDUSTAN UNILEVER LIMITED</td>\n",
       "      <td>DOVE</td>\n",
       "      <td>DOVE OXYGEN MOISTURE</td>\n",
       "      <td>1</td>\n",
       "      <td>0</td>\n",
       "      <td>0</td>\n",
       "    </tr>\n",
       "    <tr>\n",
       "      <th>3</th>\n",
       "      <td>M1</td>\n",
       "      <td>P1</td>\n",
       "      <td>15</td>\n",
       "      <td>60</td>\n",
       "      <td>HAIR CONDITIONERS</td>\n",
       "      <td>HAIR CONDITIONERS</td>\n",
       "      <td>HAIR CONDITIONERS</td>\n",
       "      <td>L'OREAL INDIA</td>\n",
       "      <td>GARNIER</td>\n",
       "      <td>FRUCTIS</td>\n",
       "      <td>1</td>\n",
       "      <td>0</td>\n",
       "      <td>0</td>\n",
       "    </tr>\n",
       "    <tr>\n",
       "      <th>4</th>\n",
       "      <td>M1</td>\n",
       "      <td>P2</td>\n",
       "      <td>0</td>\n",
       "      <td>0</td>\n",
       "      <td>HAIR CONDITIONERS</td>\n",
       "      <td>HAIR CONDITIONERS</td>\n",
       "      <td>HAIR CONDITIONERS</td>\n",
       "      <td>HINDUSTAN UNILEVER LIMITED</td>\n",
       "      <td>CLINIC PLUS</td>\n",
       "      <td>CLINIC PLUS</td>\n",
       "      <td>1</td>\n",
       "      <td>0</td>\n",
       "      <td>0</td>\n",
       "    </tr>\n",
       "  </tbody>\n",
       "</table>\n",
       "</div>"
      ],
      "text/plain": [
       "  MONTH STORECODE  QTY  VALUE                GRP               SGRP  \\\n",
       "0    M1        P1   25     83  HAIR CONDITIONERS  HAIR CONDITIONERS   \n",
       "1    M1        P1    6     22  HAIR CONDITIONERS  HAIR CONDITIONERS   \n",
       "2    M1        P1    4     15  HAIR CONDITIONERS  HAIR CONDITIONERS   \n",
       "3    M1        P1   15     60  HAIR CONDITIONERS  HAIR CONDITIONERS   \n",
       "4    M1        P2    0      0  HAIR CONDITIONERS  HAIR CONDITIONERS   \n",
       "\n",
       "               SSGRP                         CMP         MBRD  \\\n",
       "0  HAIR CONDITIONERS  HINDUSTAN UNILEVER LIMITED         DOVE   \n",
       "1  HAIR CONDITIONERS  HINDUSTAN UNILEVER LIMITED         DOVE   \n",
       "2  HAIR CONDITIONERS  HINDUSTAN UNILEVER LIMITED         DOVE   \n",
       "3  HAIR CONDITIONERS               L'OREAL INDIA      GARNIER   \n",
       "4  HAIR CONDITIONERS  HINDUSTAN UNILEVER LIMITED  CLINIC PLUS   \n",
       "\n",
       "                     BRD  M1  M2  M3  \n",
       "0  DOVE HAIR FALL RESCUE   1   0   0  \n",
       "1    DOVE INTENSE REPAIR   1   0   0  \n",
       "2   DOVE OXYGEN MOISTURE   1   0   0  \n",
       "3                FRUCTIS   1   0   0  \n",
       "4            CLINIC PLUS   1   0   0  "
      ]
     },
     "execution_count": 44,
     "metadata": {},
     "output_type": "execute_result"
    }
   ],
   "source": [
    "df=pd.concat([df,month_dummies],axis=1)\n",
    "df.head()"
   ]
  },
  {
   "cell_type": "markdown",
   "metadata": {},
   "source": [
    "VISUALIZATION"
   ]
  },
  {
   "cell_type": "code",
   "execution_count": 45,
   "metadata": {},
   "outputs": [
    {
     "data": {
      "text/plain": [
       "<Axes: >"
      ]
     },
     "execution_count": 45,
     "metadata": {},
     "output_type": "execute_result"
    },
    {
     "data": {
      "image/png": "[encoded data removed]",
      "text/plain": [
       "<Figure size 640x480 with 1 Axes>"
      ]
     },
     "metadata": {},
     "output_type": "display_data"
    }
   ],
   "source": [
    "df.plot()"
   ]
  },
  {
   "cell_type": "code",
   "execution_count": 41,
   "metadata": {},
   "outputs": [
    {
     "name": "stdout",
     "output_type": "stream",
     "text": [
      "(14260, 10)\n"
     ]
    },
    {
     "data": {
      "text/plain": [
       "P8     2642\n",
       "P6     2097\n",
       "P10    1508\n",
       "P2     1471\n",
       "P4     1454\n",
       "P3     1362\n",
       "P9     1188\n",
       "P1     1061\n",
       "P7      850\n",
       "P5      627\n",
       "Name: STORECODE, dtype: int64"
      ]
     },
     "execution_count": 41,
     "metadata": {},
     "output_type": "execute_result"
    }
   ],
   "source": []
  },
  {
   "cell_type": "code",
   "execution_count": 39,
   "metadata": {},
   "outputs": [
    {
     "data": {
      "text/plain": [
       "<Axes: xlabel='STORECODE', ylabel='QTY'>"
      ]
     },
     "execution_count": 39,
     "metadata": {},
     "output_type": "execute_result"
    },
    {
     "data": {
      "image/png": "[encoded data removed]",
      "text/plain": [
       "<Figure size 1200x600 with 1 Axes>"
      ]
     },
     "metadata": {},
     "output_type": "display_data"
    }
   ],
   "source": [
    "plt.figure(figsize = (12,6))\n",
    "sns.barplot(x = 'STORECODE',y='QTY',data=df)"
   ]
  },
  {
   "cell_type": "code",
   "execution_count": 40,
   "metadata": {},
   "outputs": [
    {
     "data": {
      "text/plain": [
       "<Axes: xlabel='STORECODE', ylabel='VALUE'>"
      ]
     },
     "execution_count": 40,
     "metadata": {},
     "output_type": "execute_result"
    },
    {
     "data": {
      "image/png": "[encoded data removed]",
      "text/plain": [
       "<Figure size 1200x600 with 1 Axes>"
      ]
     },
     "metadata": {},
     "output_type": "display_data"
    }
   ],
   "source": [
    "plt.figure(figsize = (12,6))\n",
    "sns.barplot(x = 'STORECODE',y='VALUE',data=df)"
   ]
  },
  {
   "cell_type": "code",
   "execution_count": 53,
   "metadata": {},
   "outputs": [
    {
     "data": {
      "text/html": [
       "<div>\n",
       "<style scoped>\n",
       "    .dataframe tbody tr th:only-of-type {\n",
       "        vertical-align: middle;\n",
       "    }\n",
       "\n",
       "    .dataframe tbody tr th {\n",
       "        vertical-align: top;\n",
       "    }\n",
       "\n",
       "    .dataframe thead th {\n",
       "        text-align: right;\n",
       "    }\n",
       "</style>\n",
       "<table border=\"1\" class=\"dataframe\">\n",
       "  <thead>\n",
       "    <tr style=\"text-align: right;\">\n",
       "      <th></th>\n",
       "      <th>MONTH</th>\n",
       "      <th>STORECODE</th>\n",
       "      <th>QTY</th>\n",
       "      <th>VALUE</th>\n",
       "      <th>GRP</th>\n",
       "      <th>SGRP</th>\n",
       "      <th>SSGRP</th>\n",
       "      <th>CMP</th>\n",
       "      <th>MBRD</th>\n",
       "      <th>BRD</th>\n",
       "      <th>M1</th>\n",
       "      <th>M2</th>\n",
       "      <th>M3</th>\n",
       "    </tr>\n",
       "  </thead>\n",
       "  <tbody>\n",
       "    <tr>\n",
       "      <th>0</th>\n",
       "      <td>M1</td>\n",
       "      <td>P1</td>\n",
       "      <td>25</td>\n",
       "      <td>83</td>\n",
       "      <td>HAIR CONDITIONERS</td>\n",
       "      <td>HAIR CONDITIONERS</td>\n",
       "      <td>HAIR CONDITIONERS</td>\n",
       "      <td>HINDUSTAN UNILEVER LIMITED</td>\n",
       "      <td>DOVE</td>\n",
       "      <td>DOVE HAIR FALL RESCUE</td>\n",
       "      <td>1</td>\n",
       "      <td>0</td>\n",
       "      <td>0</td>\n",
       "    </tr>\n",
       "    <tr>\n",
       "      <th>1</th>\n",
       "      <td>M1</td>\n",
       "      <td>P1</td>\n",
       "      <td>6</td>\n",
       "      <td>22</td>\n",
       "      <td>HAIR CONDITIONERS</td>\n",
       "      <td>HAIR CONDITIONERS</td>\n",
       "      <td>HAIR CONDITIONERS</td>\n",
       "      <td>HINDUSTAN UNILEVER LIMITED</td>\n",
       "      <td>DOVE</td>\n",
       "      <td>DOVE INTENSE REPAIR</td>\n",
       "      <td>1</td>\n",
       "      <td>0</td>\n",
       "      <td>0</td>\n",
       "    </tr>\n",
       "    <tr>\n",
       "      <th>2</th>\n",
       "      <td>M1</td>\n",
       "      <td>P1</td>\n",
       "      <td>4</td>\n",
       "      <td>15</td>\n",
       "      <td>HAIR CONDITIONERS</td>\n",
       "      <td>HAIR CONDITIONERS</td>\n",
       "      <td>HAIR CONDITIONERS</td>\n",
       "      <td>HINDUSTAN UNILEVER LIMITED</td>\n",
       "      <td>DOVE</td>\n",
       "      <td>DOVE OXYGEN MOISTURE</td>\n",
       "      <td>1</td>\n",
       "      <td>0</td>\n",
       "      <td>0</td>\n",
       "    </tr>\n",
       "    <tr>\n",
       "      <th>3</th>\n",
       "      <td>M1</td>\n",
       "      <td>P1</td>\n",
       "      <td>15</td>\n",
       "      <td>60</td>\n",
       "      <td>HAIR CONDITIONERS</td>\n",
       "      <td>HAIR CONDITIONERS</td>\n",
       "      <td>HAIR CONDITIONERS</td>\n",
       "      <td>L'OREAL INDIA</td>\n",
       "      <td>GARNIER</td>\n",
       "      <td>FRUCTIS</td>\n",
       "      <td>1</td>\n",
       "      <td>0</td>\n",
       "      <td>0</td>\n",
       "    </tr>\n",
       "    <tr>\n",
       "      <th>4</th>\n",
       "      <td>M1</td>\n",
       "      <td>P2</td>\n",
       "      <td>0</td>\n",
       "      <td>0</td>\n",
       "      <td>HAIR CONDITIONERS</td>\n",
       "      <td>HAIR CONDITIONERS</td>\n",
       "      <td>HAIR CONDITIONERS</td>\n",
       "      <td>HINDUSTAN UNILEVER LIMITED</td>\n",
       "      <td>CLINIC PLUS</td>\n",
       "      <td>CLINIC PLUS</td>\n",
       "      <td>1</td>\n",
       "      <td>0</td>\n",
       "      <td>0</td>\n",
       "    </tr>\n",
       "    <tr>\n",
       "      <th>5</th>\n",
       "      <td>M1</td>\n",
       "      <td>P2</td>\n",
       "      <td>1</td>\n",
       "      <td>90</td>\n",
       "      <td>HAIR CONDITIONERS</td>\n",
       "      <td>HAIR CONDITIONERS</td>\n",
       "      <td>HAIR CONDITIONERS</td>\n",
       "      <td>HINDUSTAN UNILEVER LIMITED</td>\n",
       "      <td>DOVE</td>\n",
       "      <td>DOVE DAILY SHINE</td>\n",
       "      <td>1</td>\n",
       "      <td>0</td>\n",
       "      <td>0</td>\n",
       "    </tr>\n",
       "    <tr>\n",
       "      <th>6</th>\n",
       "      <td>M1</td>\n",
       "      <td>P2</td>\n",
       "      <td>0</td>\n",
       "      <td>0</td>\n",
       "      <td>HAIR CONDITIONERS</td>\n",
       "      <td>HAIR CONDITIONERS</td>\n",
       "      <td>HAIR CONDITIONERS</td>\n",
       "      <td>HINDUSTAN UNILEVER LIMITED</td>\n",
       "      <td>DOVE</td>\n",
       "      <td>DOVE ENVIRONMENTAL DEFENCE</td>\n",
       "      <td>1</td>\n",
       "      <td>0</td>\n",
       "      <td>0</td>\n",
       "    </tr>\n",
       "    <tr>\n",
       "      <th>7</th>\n",
       "      <td>M1</td>\n",
       "      <td>P2</td>\n",
       "      <td>10</td>\n",
       "      <td>34</td>\n",
       "      <td>HAIR CONDITIONERS</td>\n",
       "      <td>HAIR CONDITIONERS</td>\n",
       "      <td>HAIR CONDITIONERS</td>\n",
       "      <td>HINDUSTAN UNILEVER LIMITED</td>\n",
       "      <td>DOVE</td>\n",
       "      <td>DOVE HAIR FALL RESCUE</td>\n",
       "      <td>1</td>\n",
       "      <td>0</td>\n",
       "      <td>0</td>\n",
       "    </tr>\n",
       "    <tr>\n",
       "      <th>8</th>\n",
       "      <td>M1</td>\n",
       "      <td>P2</td>\n",
       "      <td>11</td>\n",
       "      <td>37</td>\n",
       "      <td>HAIR CONDITIONERS</td>\n",
       "      <td>HAIR CONDITIONERS</td>\n",
       "      <td>HAIR CONDITIONERS</td>\n",
       "      <td>HINDUSTAN UNILEVER LIMITED</td>\n",
       "      <td>DOVE</td>\n",
       "      <td>DOVE INTENSE REPAIR</td>\n",
       "      <td>1</td>\n",
       "      <td>0</td>\n",
       "      <td>0</td>\n",
       "    </tr>\n",
       "    <tr>\n",
       "      <th>9</th>\n",
       "      <td>M1</td>\n",
       "      <td>P2</td>\n",
       "      <td>2</td>\n",
       "      <td>7</td>\n",
       "      <td>HAIR CONDITIONERS</td>\n",
       "      <td>HAIR CONDITIONERS</td>\n",
       "      <td>HAIR CONDITIONERS</td>\n",
       "      <td>HINDUSTAN UNILEVER LIMITED</td>\n",
       "      <td>DOVE</td>\n",
       "      <td>DOVE OXYGEN MOISTURE</td>\n",
       "      <td>1</td>\n",
       "      <td>0</td>\n",
       "      <td>0</td>\n",
       "    </tr>\n",
       "    <tr>\n",
       "      <th>10</th>\n",
       "      <td>M1</td>\n",
       "      <td>P2</td>\n",
       "      <td>0</td>\n",
       "      <td>0</td>\n",
       "      <td>HAIR CONDITIONERS</td>\n",
       "      <td>HAIR CONDITIONERS</td>\n",
       "      <td>HAIR CONDITIONERS</td>\n",
       "      <td>HINDUSTAN UNILEVER LIMITED</td>\n",
       "      <td>SUNSILK</td>\n",
       "      <td>SUNSILK SHINY SMOOTH &amp; TNGL FR</td>\n",
       "      <td>1</td>\n",
       "      <td>0</td>\n",
       "      <td>0</td>\n",
       "    </tr>\n",
       "    <tr>\n",
       "      <th>11</th>\n",
       "      <td>M1</td>\n",
       "      <td>P2</td>\n",
       "      <td>0</td>\n",
       "      <td>0</td>\n",
       "      <td>HAIR CONDITIONERS</td>\n",
       "      <td>HAIR CONDITIONERS</td>\n",
       "      <td>HAIR CONDITIONERS</td>\n",
       "      <td>HINDUSTAN UNILEVER LIMITED</td>\n",
       "      <td>SUNSILK</td>\n",
       "      <td>SUNSILK STUNNING BLACK SHINE</td>\n",
       "      <td>1</td>\n",
       "      <td>0</td>\n",
       "      <td>0</td>\n",
       "    </tr>\n",
       "    <tr>\n",
       "      <th>12</th>\n",
       "      <td>M1</td>\n",
       "      <td>P2</td>\n",
       "      <td>4</td>\n",
       "      <td>12</td>\n",
       "      <td>HAIR CONDITIONERS</td>\n",
       "      <td>HAIR CONDITIONERS</td>\n",
       "      <td>HAIR CONDITIONERS</td>\n",
       "      <td>HINDUSTAN UNILEVER LIMITED</td>\n",
       "      <td>SUNSILK</td>\n",
       "      <td>SUNSILK THICK &amp; LONG</td>\n",
       "      <td>1</td>\n",
       "      <td>0</td>\n",
       "      <td>0</td>\n",
       "    </tr>\n",
       "    <tr>\n",
       "      <th>13</th>\n",
       "      <td>M1</td>\n",
       "      <td>P2</td>\n",
       "      <td>0</td>\n",
       "      <td>0</td>\n",
       "      <td>HAIR CONDITIONERS</td>\n",
       "      <td>HAIR CONDITIONERS</td>\n",
       "      <td>HAIR CONDITIONERS</td>\n",
       "      <td>PROCTER &amp; GAMBLE</td>\n",
       "      <td>PANTENE</td>\n",
       "      <td>PANTENE CONDITIONER</td>\n",
       "      <td>1</td>\n",
       "      <td>0</td>\n",
       "      <td>0</td>\n",
       "    </tr>\n",
       "    <tr>\n",
       "      <th>14</th>\n",
       "      <td>M1</td>\n",
       "      <td>P3</td>\n",
       "      <td>29</td>\n",
       "      <td>116</td>\n",
       "      <td>HAIR CONDITIONERS</td>\n",
       "      <td>HAIR CONDITIONERS</td>\n",
       "      <td>HAIR CONDITIONERS</td>\n",
       "      <td>HINDUSTAN UNILEVER LIMITED</td>\n",
       "      <td>DOVE</td>\n",
       "      <td>DOVE DAILY SHINE</td>\n",
       "      <td>1</td>\n",
       "      <td>0</td>\n",
       "      <td>0</td>\n",
       "    </tr>\n",
       "    <tr>\n",
       "      <th>15</th>\n",
       "      <td>M1</td>\n",
       "      <td>P3</td>\n",
       "      <td>2</td>\n",
       "      <td>6</td>\n",
       "      <td>HAIR CONDITIONERS</td>\n",
       "      <td>HAIR CONDITIONERS</td>\n",
       "      <td>HAIR CONDITIONERS</td>\n",
       "      <td>HINDUSTAN UNILEVER LIMITED</td>\n",
       "      <td>DOVE</td>\n",
       "      <td>DOVE INTENSE REPAIR</td>\n",
       "      <td>1</td>\n",
       "      <td>0</td>\n",
       "      <td>0</td>\n",
       "    </tr>\n",
       "    <tr>\n",
       "      <th>16</th>\n",
       "      <td>M1</td>\n",
       "      <td>P3</td>\n",
       "      <td>2</td>\n",
       "      <td>6</td>\n",
       "      <td>HAIR CONDITIONERS</td>\n",
       "      <td>HAIR CONDITIONERS</td>\n",
       "      <td>HAIR CONDITIONERS</td>\n",
       "      <td>HINDUSTAN UNILEVER LIMITED</td>\n",
       "      <td>DOVE</td>\n",
       "      <td>DOVE OXYGEN MOISTURE</td>\n",
       "      <td>1</td>\n",
       "      <td>0</td>\n",
       "      <td>0</td>\n",
       "    </tr>\n",
       "    <tr>\n",
       "      <th>17</th>\n",
       "      <td>M1</td>\n",
       "      <td>P3</td>\n",
       "      <td>20</td>\n",
       "      <td>80</td>\n",
       "      <td>HAIR CONDITIONERS</td>\n",
       "      <td>HAIR CONDITIONERS</td>\n",
       "      <td>HAIR CONDITIONERS</td>\n",
       "      <td>HINDUSTAN UNILEVER LIMITED</td>\n",
       "      <td>TRESEMME</td>\n",
       "      <td>TRESEMME HAIR FALL DEFENSE</td>\n",
       "      <td>1</td>\n",
       "      <td>0</td>\n",
       "      <td>0</td>\n",
       "    </tr>\n",
       "    <tr>\n",
       "      <th>18</th>\n",
       "      <td>M1</td>\n",
       "      <td>P3</td>\n",
       "      <td>34</td>\n",
       "      <td>135</td>\n",
       "      <td>HAIR CONDITIONERS</td>\n",
       "      <td>HAIR CONDITIONERS</td>\n",
       "      <td>HAIR CONDITIONERS</td>\n",
       "      <td>HINDUSTAN UNILEVER LIMITED</td>\n",
       "      <td>TRESEMME</td>\n",
       "      <td>TRESEMME SMOOTH &amp; SHINE</td>\n",
       "      <td>1</td>\n",
       "      <td>0</td>\n",
       "      <td>0</td>\n",
       "    </tr>\n",
       "    <tr>\n",
       "      <th>19</th>\n",
       "      <td>M1</td>\n",
       "      <td>P3</td>\n",
       "      <td>15</td>\n",
       "      <td>58</td>\n",
       "      <td>HAIR CONDITIONERS</td>\n",
       "      <td>HAIR CONDITIONERS</td>\n",
       "      <td>HAIR CONDITIONERS</td>\n",
       "      <td>PROCTER &amp; GAMBLE</td>\n",
       "      <td>PANTENE</td>\n",
       "      <td>PANTENE CONDITIONER</td>\n",
       "      <td>1</td>\n",
       "      <td>0</td>\n",
       "      <td>0</td>\n",
       "    </tr>\n",
       "  </tbody>\n",
       "</table>\n",
       "</div>"
      ],
      "text/plain": [
       "   MONTH STORECODE  QTY  VALUE                GRP               SGRP  \\\n",
       "0     M1        P1   25     83  HAIR CONDITIONERS  HAIR CONDITIONERS   \n",
       "1     M1        P1    6     22  HAIR CONDITIONERS  HAIR CONDITIONERS   \n",
       "2     M1        P1    4     15  HAIR CONDITIONERS  HAIR CONDITIONERS   \n",
       "3     M1        P1   15     60  HAIR CONDITIONERS  HAIR CONDITIONERS   \n",
       "4     M1        P2    0      0  HAIR CONDITIONERS  HAIR CONDITIONERS   \n",
       "5     M1        P2    1     90  HAIR CONDITIONERS  HAIR CONDITIONERS   \n",
       "6     M1        P2    0      0  HAIR CONDITIONERS  HAIR CONDITIONERS   \n",
       "7     M1        P2   10     34  HAIR CONDITIONERS  HAIR CONDITIONERS   \n",
       "8     M1        P2   11     37  HAIR CONDITIONERS  HAIR CONDITIONERS   \n",
       "9     M1        P2    2      7  HAIR CONDITIONERS  HAIR CONDITIONERS   \n",
       "10    M1        P2    0      0  HAIR CONDITIONERS  HAIR CONDITIONERS   \n",
       "11    M1        P2    0      0  HAIR CONDITIONERS  HAIR CONDITIONERS   \n",
       "12    M1        P2    4     12  HAIR CONDITIONERS  HAIR CONDITIONERS   \n",
       "13    M1        P2    0      0  HAIR CONDITIONERS  HAIR CONDITIONERS   \n",
       "14    M1        P3   29    116  HAIR CONDITIONERS  HAIR CONDITIONERS   \n",
       "15    M1        P3    2      6  HAIR CONDITIONERS  HAIR CONDITIONERS   \n",
       "16    M1        P3    2      6  HAIR CONDITIONERS  HAIR CONDITIONERS   \n",
       "17    M1        P3   20     80  HAIR CONDITIONERS  HAIR CONDITIONERS   \n",
       "18    M1        P3   34    135  HAIR CONDITIONERS  HAIR CONDITIONERS   \n",
       "19    M1        P3   15     58  HAIR CONDITIONERS  HAIR CONDITIONERS   \n",
       "\n",
       "                SSGRP                         CMP         MBRD  \\\n",
       "0   HAIR CONDITIONERS  HINDUSTAN UNILEVER LIMITED         DOVE   \n",
       "1   HAIR CONDITIONERS  HINDUSTAN UNILEVER LIMITED         DOVE   \n",
       "2   HAIR CONDITIONERS  HINDUSTAN UNILEVER LIMITED         DOVE   \n",
       "3   HAIR CONDITIONERS               L'OREAL INDIA      GARNIER   \n",
       "4   HAIR CONDITIONERS  HINDUSTAN UNILEVER LIMITED  CLINIC PLUS   \n",
       "5   HAIR CONDITIONERS  HINDUSTAN UNILEVER LIMITED         DOVE   \n",
       "6   HAIR CONDITIONERS  HINDUSTAN UNILEVER LIMITED         DOVE   \n",
       "7   HAIR CONDITIONERS  HINDUSTAN UNILEVER LIMITED         DOVE   \n",
       "8   HAIR CONDITIONERS  HINDUSTAN UNILEVER LIMITED         DOVE   \n",
       "9   HAIR CONDITIONERS  HINDUSTAN UNILEVER LIMITED         DOVE   \n",
       "10  HAIR CONDITIONERS  HINDUSTAN UNILEVER LIMITED      SUNSILK   \n",
       "11  HAIR CONDITIONERS  HINDUSTAN UNILEVER LIMITED      SUNSILK   \n",
       "12  HAIR CONDITIONERS  HINDUSTAN UNILEVER LIMITED      SUNSILK   \n",
       "13  HAIR CONDITIONERS            PROCTER & GAMBLE      PANTENE   \n",
       "14  HAIR CONDITIONERS  HINDUSTAN UNILEVER LIMITED         DOVE   \n",
       "15  HAIR CONDITIONERS  HINDUSTAN UNILEVER LIMITED         DOVE   \n",
       "16  HAIR CONDITIONERS  HINDUSTAN UNILEVER LIMITED         DOVE   \n",
       "17  HAIR CONDITIONERS  HINDUSTAN UNILEVER LIMITED     TRESEMME   \n",
       "18  HAIR CONDITIONERS  HINDUSTAN UNILEVER LIMITED     TRESEMME   \n",
       "19  HAIR CONDITIONERS            PROCTER & GAMBLE      PANTENE   \n",
       "\n",
       "                               BRD  M1  M2  M3  \n",
       "0            DOVE HAIR FALL RESCUE   1   0   0  \n",
       "1              DOVE INTENSE REPAIR   1   0   0  \n",
       "2             DOVE OXYGEN MOISTURE   1   0   0  \n",
       "3                          FRUCTIS   1   0   0  \n",
       "4                      CLINIC PLUS   1   0   0  \n",
       "5                 DOVE DAILY SHINE   1   0   0  \n",
       "6       DOVE ENVIRONMENTAL DEFENCE   1   0   0  \n",
       "7            DOVE HAIR FALL RESCUE   1   0   0  \n",
       "8              DOVE INTENSE REPAIR   1   0   0  \n",
       "9             DOVE OXYGEN MOISTURE   1   0   0  \n",
       "10  SUNSILK SHINY SMOOTH & TNGL FR   1   0   0  \n",
       "11    SUNSILK STUNNING BLACK SHINE   1   0   0  \n",
       "12            SUNSILK THICK & LONG   1   0   0  \n",
       "13             PANTENE CONDITIONER   1   0   0  \n",
       "14                DOVE DAILY SHINE   1   0   0  \n",
       "15             DOVE INTENSE REPAIR   1   0   0  \n",
       "16            DOVE OXYGEN MOISTURE   1   0   0  \n",
       "17      TRESEMME HAIR FALL DEFENSE   1   0   0  \n",
       "18         TRESEMME SMOOTH & SHINE   1   0   0  \n",
       "19             PANTENE CONDITIONER   1   0   0  "
      ]
     },
     "execution_count": 53,
     "metadata": {},
     "output_type": "execute_result"
    }
   ],
   "source": [
    "top_20 = df.head(20)\n",
    "top_20"
   ]
  },
  {
   "cell_type": "code",
   "execution_count": 60,
   "metadata": {},
   "outputs": [
    {
     "data": {
      "text/plain": [
       "<matplotlib.collections.PathCollection at 0x222e76f9b10>"
      ]
     },
     "execution_count": 60,
     "metadata": {},
     "output_type": "execute_result"
    },
    {
     "data": {
      "image/png": "[encoded data removed]",
      "text/plain": [
       "<Figure size 640x480 with 1 Axes>"
      ]
     },
     "metadata": {},
     "output_type": "display_data"
    }
   ],
   "source": [
    "plt.scatter(x = df['VALUE'],\n",
    "                   y= df['MONTH'] \n",
    "            )"
   ]
  },
  {
   "cell_type": "code",
   "execution_count": 72,
   "metadata": {},
   "outputs": [
    {
     "data": {
      "text/plain": [
       "P8     18.527349\n",
       "P6     14.705470\n",
       "P10    10.575035\n",
       "P2     10.315568\n",
       "P4     10.196353\n",
       "P3      9.551192\n",
       "P9      8.330996\n",
       "P1      7.440393\n",
       "P7      5.960729\n",
       "P5      4.396914\n",
       "Name: STORECODE, dtype: float64"
      ]
     },
     "execution_count": 72,
     "metadata": {},
     "output_type": "execute_result"
    }
   ],
   "source": [
    "store = df[\"STORECODE\"].value_counts()\n",
    "(store / sum(store)) * 100"
   ]
  },
  {
   "cell_type": "code",
   "execution_count": 73,
   "metadata": {},
   "outputs": [
    {
     "data": {
      "text/plain": [
       "Text(0.5, 1.0, 'Storecode frequency')"
      ]
     },
     "execution_count": 73,
     "metadata": {},
     "output_type": "execute_result"
    },
    {
     "data": {
      "image/png": "[encoded data removed]",
      "text/plain": [
       "<Figure size 1000x1000 with 1 Axes>"
      ]
     },
     "metadata": {},
     "output_type": "display_data"
    }
   ],
   "source": [
    "prcnt= (store / sum(store)) *100\n",
    "sns.set()\n",
    "plt.figure(figsize=(10,10))\n",
    "plt.pie(store,autopct='%1.1f%%')\n",
    "labels=store.index\n",
    "plt.legend(labels,loc='upper right', bbox_to_anchor=(-0.1, 1.))\n",
    "plt.title(\"Storecode frequency\")"
   ]
  },
  {
   "cell_type": "code",
   "execution_count": 46,
   "metadata": {},
   "outputs": [
    {
     "data": {
      "text/plain": [
       "([<matplotlib.axis.XTick at 0x222e6181600>,\n",
       "  <matplotlib.axis.XTick at 0x222e60cb280>,\n",
       "  <matplotlib.axis.XTick at 0x222e61aaa40>,\n",
       "  <matplotlib.axis.XTick at 0x222e61fabc0>,\n",
       "  <matplotlib.axis.XTick at 0x222e61fb670>,\n",
       "  <matplotlib.axis.XTick at 0x222e61fbdc0>,\n",
       "  <matplotlib.axis.XTick at 0x222e61fafe0>,\n",
       "  <matplotlib.axis.XTick at 0x222e6838d30>,\n",
       "  <matplotlib.axis.XTick at 0x222e68397e0>,\n",
       "  <matplotlib.axis.XTick at 0x222e683a290>],\n",
       " [Text(1, 0, 'P2'),\n",
       "  Text(2, 0, 'P3'),\n",
       "  Text(3, 0, 'P4'),\n",
       "  Text(4, 0, 'P5'),\n",
       "  Text(5, 0, 'P6'),\n",
       "  Text(6, 0, 'P7'),\n",
       "  Text(7, 0, 'P8'),\n",
       "  Text(8, 0, 'P9'),\n",
       "  Text(9, 0, 'P10'),\n",
       "  Text(10, 0, '')])"
      ]
     },
     "execution_count": 46,
     "metadata": {},
     "output_type": "execute_result"
    },
    {
     "data": {
      "image/png": "[encoded data removed]",
      "text/plain": [
       "<Figure size 1200x600 with 1 Axes>"
      ]
     },
     "metadata": {},
     "output_type": "display_data"
    }
   ],
   "source": [
    "xdata = [1,2,3,4,5,6,7,8,9,10]\n",
    "plt.figure(figsize = (12,6))\n",
    "sns.histplot(df['STORECODE'])\n",
    "plt.xticks(xdata)"
   ]
  },
  {
   "cell_type": "code",
   "execution_count": 66,
   "metadata": {},
   "outputs": [
    {
     "data": {
      "text/plain": [
       "([<matplotlib.axis.XTick at 0x222e6929330>,\n",
       "  <matplotlib.axis.XTick at 0x222e6929a80>,\n",
       "  <matplotlib.axis.XTick at 0x222e77b9d80>,\n",
       "  <matplotlib.axis.XTick at 0x222e6f8f820>,\n",
       "  <matplotlib.axis.XTick at 0x222e6e98310>,\n",
       "  <matplotlib.axis.XTick at 0x222e6e98820>,\n",
       "  <matplotlib.axis.XTick at 0x222e6e992d0>,\n",
       "  <matplotlib.axis.XTick at 0x222e6e99d80>,\n",
       "  <matplotlib.axis.XTick at 0x222e6e9a830>,\n",
       "  <matplotlib.axis.XTick at 0x222e6fcaf20>],\n",
       " [Text(1, 0, '1'),\n",
       "  Text(2, 0, '2'),\n",
       "  Text(3, 0, '3'),\n",
       "  Text(4, 0, '4'),\n",
       "  Text(5, 0, '5'),\n",
       "  Text(6, 0, '6'),\n",
       "  Text(7, 0, '7'),\n",
       "  Text(8, 0, '8'),\n",
       "  Text(9, 0, '9'),\n",
       "  Text(10, 0, '10')])"
      ]
     },
     "execution_count": 66,
     "metadata": {},
     "output_type": "execute_result"
    },
    {
     "data": {
      "image/png": "[encoded data removed]",
      "text/plain": [
       "<Figure size 1200x600 with 1 Axes>"
      ]
     },
     "metadata": {},
     "output_type": "display_data"
    }
   ],
   "source": [
    "xdata = [1,2,3,4,5,6,7,8,9,10]\n",
    "plt.figure(figsize = (12,6))\n",
    "sns.histplot(df['QTY'])\n",
    "plt.xticks(xdata)"
   ]
  }
 ],
 "metadata": {
  "kernelspec": {
   "display_name": "Python 3",
   "language": "python",
   "name": "python3"
  },
  "language_info": {
   "codemirror_mode": {
    "name": "ipython",
    "version": 3
   },
   "file_extension": ".py",
   "mimetype": "text/x-python",
   "name": "python",
   "nbconvert_exporter": "python",
   "pygments_lexer": "ipython3",
   "version": "3.10.11"
  }
 },
 "nbformat": 4,
 "nbformat_minor": 2
}
